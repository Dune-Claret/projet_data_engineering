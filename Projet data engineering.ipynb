{
 "cells": [
  {
   "cell_type": "code",
   "execution_count": 1,
   "metadata": {},
   "outputs": [],
   "source": [
    "from selenium import webdriver"
   ]
  },
  {
   "cell_type": "code",
   "execution_count": 2,
   "metadata": {
    "scrolled": true
   },
   "outputs": [],
   "source": [
    "IS_LINUX = False\n",
    "chrome = webdriver.Chrome(executable_path=\"./chromedriver\" if not IS_LINUX else \"./chromedriver_linux\")"
   ]
  },
  {
   "cell_type": "code",
   "execution_count": 21,
   "metadata": {},
   "outputs": [],
   "source": [
    "chrome.get(\"https://www.discogs.com/fr/\")"
   ]
  },
  {
   "cell_type": "code",
   "execution_count": 8,
   "metadata": {},
   "outputs": [],
   "source": [
    "try :\n",
    "    button_cookies = chrome.find_element_by_id(\"onetrust-accept-btn-handler\")\n",
    "    button_cookies.click()\n",
    "except exceptions.NoSuchElementException:\n",
    "    pass"
   ]
  },
  {
   "cell_type": "code",
   "execution_count": 22,
   "metadata": {},
   "outputs": [],
   "source": [
    "    #search the album\n",
    "    search_bar_discogs = chrome.find_element_by_id(\"search_q\")\n",
    "    search_bar_discogs.click()\n",
    "    search_bar_discogs.send_keys(\"Led Zeppelin IV – Led Zeppelin\")\n",
    "    #search_bar_discogs.send_keys(\"The Beatles – The Beatles\")\n",
    "\n"
   ]
  },
  {
   "cell_type": "code",
   "execution_count": 27,
   "metadata": {},
   "outputs": [],
   "source": [
    "    chrome.get(\"https://www.discogs.com/fr/\")\n",
    "\n",
    "    #search the album\n",
    "    search_bar_discogs = chrome.find_element_by_id(\"search_q\")\n",
    "    search_bar_discogs.click()\n",
    "    search_bar_discogs.send_keys(\"EAGLES/THEIR GREATEST HITS 1971 - 1975 ‎– EAGLES\")\n",
    "    #show the searching result menu and click on the first element \n",
    "    chrome.implicitly_wait(5)\n",
    "    cartes = chrome.find_elements_by_class_name(\"ui-menu-item\")\n",
    "    cpt = 0\n",
    "    for element in cartes :\n",
    "        cpt += 1\n",
    "        try :\n",
    "            if \"(toutes les versions)\" in element.text :\n",
    "                #element.click()\n",
    "                chrome.execute_script(\"arguments[0].click();\", element)\n",
    "                break\n",
    "        except exceptions.StaleElementReferenceException:\n",
    "            pass\n",
    "    if cpt == len(cartes) :\n",
    "        cartes[0].click()\n"
   ]
  },
  {
   "cell_type": "code",
   "execution_count": null,
   "metadata": {},
   "outputs": [],
   "source": [
    "chrome.get(\"https://www.discogs.com/fr/Led-Zeppelin-Led-Zeppelin-IV/release/2893139\")\n",
    "\n"
   ]
  },
  {
   "cell_type": "code",
   "execution_count": 42,
   "metadata": {},
   "outputs": [
    {
     "output_type": "stream",
     "name": "stdout",
     "text": [
      "2014\n"
     ]
    }
   ],
   "source": [
    "genre = chrome.find_elements_by_class_name(\"content\")\n",
    "print([element.text for element in genre][2])"
   ]
  },
  {
   "cell_type": "code",
   "execution_count": 43,
   "metadata": {},
   "outputs": [
    {
     "output_type": "stream",
     "name": "stdout",
     "text": [
      "2014\n"
     ]
    }
   ],
   "source": [
    "years = chrome.find_elements_by_class_name(\"content\")\n",
    "\n",
    "#year = year.find_element_by_tag_name(\"a\")\n",
    "print([element.text for element in years][2])"
   ]
  },
  {
   "cell_type": "code",
   "execution_count": 6,
   "metadata": {},
   "outputs": [],
   "source": [
    "button_price = chrome.find_element_by_link_text(\"Vinyle et CD\")\n",
    "button_price.click()"
   ]
  },
  {
   "cell_type": "code",
   "execution_count": 14,
   "metadata": {},
   "outputs": [],
   "source": [
    "chrome.get(\"https://www.fnac.com\")\n",
    "search_bar_fnac = chrome.find_element_by_id(\"Fnac_Search\")\n",
    "search_bar_fnac.click()\n",
    "search_bar_fnac.send_keys(\"1989 Taylor Swift\")\n",
    "button_search = chrome.find_elements_by_xpath('//*[@id=\"QuickSearchForm\"]/div[2]/div/button')\n",
    "button_search[0].click()\n",
    "\n"
   ]
  },
  {
   "cell_type": "code",
   "execution_count": 27,
   "metadata": {},
   "outputs": [
    {
     "output_type": "stream",
     "name": "stdout",
     "text": [
      "7€\n"
     ]
    }
   ],
   "source": [
    "albums = chrome.find_elements_by_class_name(\"Article-itemGroup\")\n",
    "for element in albums :\n",
    "    if \"1989\" in element.text:\n",
    "        price = element.find_element_by_class_name(\"userPrice\")\n",
    "        print(price.text)\n",
    "        break\n"
   ]
  },
  {
   "cell_type": "code",
   "execution_count": 24,
   "metadata": {},
   "outputs": [
    {
     "output_type": "execute_result",
     "data": {
      "text/plain": [
       "(list, 11)"
      ]
     },
     "metadata": {},
     "execution_count": 24
    }
   ],
   "source": [
    "cartes = chrome.find_elements_by_class_name(\"ui-menu-item\")\n",
    "type(cartes), len(cartes)"
   ]
  },
  {
   "cell_type": "code",
   "execution_count": 25,
   "metadata": {},
   "outputs": [
    {
     "output_type": "stream",
     "name": "stdout",
     "text": [
      "Taylor Swift\n"
     ]
    }
   ],
   "source": [
    "print(cartes[1].find_element_by_class_name(\"sublabel\").text)"
   ]
  },
  {
   "cell_type": "code",
   "execution_count": 26,
   "metadata": {},
   "outputs": [],
   "source": [
    "for menu_item in cartes:\n",
    "    if(menu_item.find_element_by_class_name(\"sublabel\").text == \"Taylor Swift\"):\n",
    "        menu_item.click()\n",
    "        break"
   ]
  },
  {
   "cell_type": "code",
   "execution_count": null,
   "metadata": {},
   "outputs": [],
   "source": [
    "<a href=\"/sell/list?master_id=750386&amp;ev=mb\" class=\"buy_release_button button button-blue\">\n",
    "                                                    Vinyle et CD\n",
    "                            </a>"
   ]
  }
 ],
 "metadata": {
  "kernelspec": {
   "display_name": "Python 3",
   "language": "python",
   "name": "python3"
  },
  "language_info": {
   "codemirror_mode": {
    "name": "ipython",
    "version": 3
   },
   "file_extension": ".py",
   "mimetype": "text/x-python",
   "name": "python",
   "nbconvert_exporter": "python",
   "pygments_lexer": "ipython3",
   "version": "3.7.6-final"
  }
 },
 "nbformat": 4,
 "nbformat_minor": 4
}